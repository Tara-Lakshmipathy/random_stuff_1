{
 "cells": [
  {
   "cell_type": "code",
   "execution_count": 1,
   "id": "6615d885-4022-4f4d-b0bb-987a988fb2ae",
   "metadata": {},
   "outputs": [],
   "source": [
    "from semantikon.typing import u\n",
    "from typing import Annotated\n",
    "from dataclasses import dataclass\n",
    "from semantikon.converter import semantikon_class, parse_metadata, parse_input_args, parse_output_args\n",
    "from typing import Any\n",
    "import numpy as np\n",
    "from pyiron_workflow import Workflow, as_function_node"
   ]
  },
  {
   "cell_type": "code",
   "execution_count": 2,
   "id": "e3d42858-ab21-4ecf-b416-4e194bea46b9",
   "metadata": {},
   "outputs": [],
   "source": [
    "class HIERARCHICALComputationalSample():\n",
    "    pass\n",
    "class HIERARCHICALAtomicScaleSample(HIERARCHICALComputationalSample):\n",
    "    pass\n",
    "\n",
    "#--------------------------------------------------------------------------------------------------------#\n",
    "    \n",
    "class HIERARCHICALSimulationCell():\n",
    "    pass\n",
    "\n",
    "#--------------------------------------------------------------------------------------------------------#\n",
    "    \n",
    "class HIERARCHICALVector():\n",
    "    pass\n",
    "\n",
    "#--------------------------------------------------------------------------------------------------------#\n",
    "    \n",
    "class HIERARCHICALAngle():\n",
    "    pass\n",
    "\n",
    "#--------------------------------------------------------------------------------------------------------#\n",
    "    \n",
    "class HIERARCHICALChemicalSpecies():\n",
    "    pass\n",
    "class HIERARCHICALAtom(HIERARCHICALChemicalSpecies):\n",
    "    pass\n",
    "class HIERARCHICALMolecule(HIERARCHICALChemicalSpecies):\n",
    "    pass\n",
    "\n",
    "#--------------------------------------------------------------------------------------------------------#\n",
    "\n",
    "class HIERARCHICALCrystalDefect():\n",
    "    pass\n",
    "class HIERARCHICALPointDefect(HIERARCHICALCrystalDefect):\n",
    "    pass\n",
    "class HIERARCHICALVacancy(HIERARCHICALPointDefect):\n",
    "    pass\n",
    "class HIERARCHICALSubstitution(HIERARCHICALPointDefect):\n",
    "    pass\n",
    "\n",
    "#--------------------------------------------------------------------------------------------------------#\n",
    "\n",
    "class HIERARCHICALPosition:\n",
    "    pass"
   ]
  },
  {
   "cell_type": "code",
   "execution_count": 13,
   "id": "109e712c-9493-4766-bab5-53a1f2f57103",
   "metadata": {},
   "outputs": [],
   "source": [
    "from ase import Atoms\n",
    "@semantikon_class\n",
    "@dataclass\n",
    "class HIERARCHICALVacancyStructure:\n",
    "    structure: u(Atoms, label=\"vacancy_structure\", uri=HIERARCHICALAtomicScaleSample)\n",
    "\n",
    "    @dataclass\n",
    "    class HIERARCHICALSimulationCell:\n",
    "        simulation_cell_angles: u(np.ndarray, units=\"DEGREES\", label=\"simulation_cell_angles\", uri=HIERARCHICALAngle)\n",
    "        simulation_cell_vectors: u(np.ndarray, units=\"ANGSTROM\", label=\"simulation_cell_vectors\", uri=HIERARCHICALVector)\n",
    "\n",
    "    @dataclass\n",
    "    class HIERARCHICALComposition:\n",
    "        chemical_species: u(str, label=\"chemical_species\", uri=HIERARCHICALAtom)\n",
    "\n",
    "    @dataclass\n",
    "    class HIERARCHICALCrystalDefect:\n",
    "        defect_type_1: u(Any, label=\"defect_type\", uri=HIERARCHICALVacancy) = \"vacancy\"\n",
    "        defect_details_1_a: u(np.ndarray, units=\"ANGSTROM\", label=\"defect_details_1\", uri=HIERARCHICALPosition) = None"
   ]
  },
  {
   "cell_type": "code",
   "execution_count": 14,
   "id": "dc6130f4-0cf3-4704-acaf-0fb317191ed0",
   "metadata": {},
   "outputs": [],
   "source": [
    "@as_function_node(\"vacancy_structure\")\n",
    "def HIERARCHICALCreateVacancyStructure(pr_name: str, element: str) -> HIERARCHICALVacancyStructure:\n",
    "    from pyiron_atomistics import Project\n",
    "    pr = Project(pr_name)\n",
    "    struct = pr.create.structure.bulk(element, cubic = True)\n",
    "    vacancy_struct = struct.copy()\n",
    "    del vacancy_struct[1]\n",
    "\n",
    "    struct_dataclass = HIERARCHICALVacancyStructure(structure=vacancy_struct)\n",
    "    struct_dataclass.HIERARCHICALSimulationCell.simulation_cell_vectors=[np.round(vacancy_struct.cell[0],4),np.round(vacancy_struct.cell[1],4),np.round(vacancy_struct.cell[2],4)]\n",
    "    struct_dataclass.HIERARCHICALSimulationCell.simulation_cell_angles=[np.round(vacancy_struct.cell.cellpar()[3],4),np.round(vacancy_struct.cell.cellpar()[4],4),np.round(vacancy_struct.cell.cellpar()[5],4)]\n",
    "    struct_dataclass.HIERARCHICALComposition.chemical_species=vacancy_struct.get_chemical_formula()\n",
    "    struct_dataclass.HIERARCHICALCrystalDefect.defect_details_1_a=struct.get_positions()[1]\n",
    "\n",
    "    return struct_dataclass"
   ]
  },
  {
   "cell_type": "code",
   "execution_count": 18,
   "id": "24570a4f-dd79-44d6-9c11-df8c84f00cea",
   "metadata": {},
   "outputs": [],
   "source": [
    "@as_function_node(\"test_result\")\n",
    "def HIERARCHICALCheckRestriction(inp: u(object, label=\"vacancy_structure\", restrictions=(\"HIERARCHICALCrystalDefect.defect_type_1\", \"Class Of or Subclass Of\", HIERARCHICALPointDefect))) -> str:\n",
    "    return \"Done\""
   ]
  },
  {
   "cell_type": "code",
   "execution_count": 19,
   "id": "6a591bdc-2e3e-4c24-a28b-47cb518e58eb",
   "metadata": {},
   "outputs": [],
   "source": [
    "wf2 = Workflow(\"hierarchical_wf\")\n",
    "\n",
    "wf2.HIERARCHICALVacancyStructure = HIERARCHICALCreateVacancyStructure(\"test\", \"Fe\")\n",
    "wf2.HIERARCHICALCheck = HIERARCHICALCheckRestriction(wf2.HIERARCHICALVacancyStructure)"
   ]
  },
  {
   "cell_type": "code",
   "execution_count": 20,
   "id": "4ff4d082-09ac-4c49-a621-8d74dc59d93c",
   "metadata": {},
   "outputs": [
    {
     "name": "stdout",
     "output_type": "stream",
     "text": [
      "restriction_class: HIERARCHICALPointDefect\n",
      "restriction_type: Class Of or Subclass Of\n",
      "incoming_class: HIERARCHICALVacancy\n",
      "\n",
      "result: True\n"
     ]
    }
   ],
   "source": [
    "restriction_class = parse_input_args(wf2.HIERARCHICALCheck.node_function)[\"inp\"][\"restrictions\"][2]\n",
    "path_suffix = parse_input_args(wf2.HIERARCHICALCheck.node_function)[\"inp\"][\"restrictions\"][0]\n",
    "incoming_class = parse_metadata(eval(wf2.HIERARCHICALVacancyStructure.outputs.vacancy_structure.type_hint.__name__ + \".\" + path_suffix))[\"uri\"]\n",
    "incoming_obj = incoming_class()\n",
    "restriction_type = parse_input_args(wf2.HIERARCHICALCheck.node_function)[\"inp\"][\"restrictions\"][1]\n",
    "if restriction_type == \"Class Of or Subclass Of\":\n",
    "    check = str(isinstance(incoming_obj, restriction_class))\n",
    "else:\n",
    "    check = str(False)\n",
    "print(\"restriction_class: \" + restriction_class.__name__)\n",
    "print(\"restriction_type: \" + restriction_type)\n",
    "print(\"incoming_class: \" + incoming_class.__name__)\n",
    "print(\"\")\n",
    "print(\"result: \" + check)"
   ]
  },
  {
   "cell_type": "code",
   "execution_count": null,
   "id": "1baf9adf-3535-4d8f-bb79-6f231ddf765c",
   "metadata": {},
   "outputs": [],
   "source": []
  },
  {
   "cell_type": "code",
   "execution_count": null,
   "id": "9593f64d-28df-4a34-bada-e7a1a2639b6a",
   "metadata": {},
   "outputs": [],
   "source": []
  },
  {
   "cell_type": "code",
   "execution_count": null,
   "id": "151af287-65fe-4ec2-a666-b566af1c0ee0",
   "metadata": {},
   "outputs": [],
   "source": []
  },
  {
   "cell_type": "code",
   "execution_count": 21,
   "id": "41b5e5a3-d80b-4633-b096-aab9f3366ab4",
   "metadata": {},
   "outputs": [],
   "source": [
    "class FLATComputationalSample():\n",
    "    pass\n",
    "class FLATAtomicScaleSample(FLATComputationalSample):\n",
    "    pass\n",
    "\n",
    "#--------------------------------------------------------------------------------------------------------#\n",
    "    \n",
    "class FLATSimulationCell():\n",
    "    pass\n",
    "class FLATAtomicScaleSampleSimulationCell(FLATSimulationCell):\n",
    "    pass\n",
    "\n",
    "#--------------------------------------------------------------------------------------------------------#\n",
    "    \n",
    "class FLATVector():\n",
    "    pass\n",
    "class FLATSimulationCellVector(FLATVector):\n",
    "    pass\n",
    "\n",
    "#--------------------------------------------------------------------------------------------------------#\n",
    "    \n",
    "class FLATAngle():\n",
    "    pass\n",
    "class FLATSimulationCellAngle(FLATAngle):\n",
    "    pass\n",
    "\n",
    "#--------------------------------------------------------------------------------------------------------#\n",
    "    \n",
    "class FLATChemicalSpecies():\n",
    "    pass\n",
    "class FLATAtom(FLATChemicalSpecies):\n",
    "    pass\n",
    "class FLATMolecule(FLATChemicalSpecies):\n",
    "    pass\n",
    "class FLATAtomicScaleSampleChemicalSpecies(FLATChemicalSpecies):\n",
    "    pass\n",
    "class FLATAtomicScaleSampleAtom(FLATAtomicScaleSampleChemicalSpecies):\n",
    "    pass\n",
    "class FLATAtomicScaleSampleMolecule(FLATAtomicScaleSampleChemicalSpecies):\n",
    "    pass\n",
    "\n",
    "#--------------------------------------------------------------------------------------------------------#\n",
    "\n",
    "class FLATCrystalDefect():\n",
    "    pass\n",
    "class FLATPointDefect(FLATCrystalDefect):\n",
    "    pass\n",
    "class FLATVacancy(FLATPointDefect):\n",
    "    pass\n",
    "class FLATSubstitution(FLATPointDefect):\n",
    "    pass\n",
    "class FLATAtomicScaleSampleCrystalDefect(FLATCrystalDefect):\n",
    "    pass\n",
    "class FLATAtomicScaleSamplePointDefect(FLATAtomicScaleSampleCrystalDefect):\n",
    "    pass\n",
    "class FLATAtomicScaleSampleVacancy(FLATAtomicScaleSamplePointDefect):\n",
    "    pass\n",
    "class FLATAtomicScaleSampleSubstitution(FLATAtomicScaleSamplePointDefect):\n",
    "    pass\n",
    "\n",
    "#--------------------------------------------------------------------------------------------------------#\n",
    "\n",
    "class FLATPosition():\n",
    "    pass\n",
    "class FLATAtomicScaleSampleAtomPosition(FLATPosition):\n",
    "    pass\n",
    "class FLATAtomicScaleSampleMoleculePosition(FLATPosition):\n",
    "    pass\n",
    "class FLATAtomicScaleSampleVacancyPosition(FLATPosition):\n",
    "    pass\n",
    "class FLATAtomicScaleSampleSubstitutionPosition(FLATPosition):\n",
    "    pass"
   ]
  },
  {
   "cell_type": "code",
   "execution_count": 22,
   "id": "9d1c8957-f628-4386-a524-a9d911736c4d",
   "metadata": {},
   "outputs": [],
   "source": [
    "from ase import Atoms\n",
    "@semantikon_class\n",
    "@dataclass\n",
    "class FLATOutputStructure:\n",
    "    structure: u(Atoms, label=\"vacancy_structure\", uri=FLATAtomicScaleSample)\n",
    "    simulation_cell_vectors: u(np.ndarray, units=\"ANGSTROM\", label=\"simulation_cell_vectors\", uri=FLATSimulationCellVector)\n",
    "    simulation_cell_angles: u(np.ndarray, units=\"DEGREES\", label=\"simulation_cell_angles\", uri=FLATSimulationCellAngle)\n",
    "    chemical_elements: u(str, label=\"chemical_elements\", uri=FLATAtomicScaleSampleAtom)\n",
    "    defect_type_1: u(Any, label=\"defect_type\", uri=FLATAtomicScaleSampleVacancy) = None\n",
    "    defect_details_1_a: u(np.ndarray, units=\"ANGSTROM\", label=\"defect_details_1\", uri=FLATAtomicScaleSampleVacancyPosition) = None"
   ]
  },
  {
   "cell_type": "code",
   "execution_count": 23,
   "id": "52f649f8-2117-4c4a-90cc-20f746036935",
   "metadata": {},
   "outputs": [],
   "source": [
    "@as_function_node(\"vacancy_structure\")\n",
    "def FLATCreateStructure(pr_name: str, element: str) -> FLATOutputStructure:\n",
    "    from pyiron_atomistics import Project\n",
    "    pr = Project(pr_name)\n",
    "    struct = pr.create.structure.bulk(element, cubic = True)\n",
    "    vacancy_struct = struct.copy()\n",
    "    del vacancy_struct[1]\n",
    "\n",
    "    dataclass = FLATOutputStructure(structure=vacancy_struct, \n",
    "                                simulation_cell_vectors=[np.round(vacancy_struct.cell[0],4),np.round(vacancy_struct.cell[1],4),np.round(vacancy_struct.cell[2],4)],\n",
    "                                simulation_cell_angles=[np.round(vacancy_struct.cell.cellpar()[3],4),np.round(vacancy_struct.cell.cellpar()[4],4),np.round(vacancy_struct.cell.cellpar()[5],4)],\n",
    "                                chemical_elements=vacancy_struct.get_chemical_formula(),\n",
    "                                defect_type_1 = \"vacancy\",\n",
    "                                defect_details_1_a=struct.get_positions()[1]\n",
    "                               )\n",
    "\n",
    "    return dataclass"
   ]
  },
  {
   "cell_type": "code",
   "execution_count": 36,
   "id": "c9fc91cd-2608-42be-958b-ca273f9639d3",
   "metadata": {},
   "outputs": [],
   "source": [
    "@as_function_node(\"test_result\")\n",
    "def FLATCheckRestriction(inp: u(object, label=\"vacancy_structure\", restrictions=(\"defect_type_1\", \"Class Of or Subclass Of\", FLATCrystalDefect))) -> str:\n",
    "    return \"Done\""
   ]
  },
  {
   "cell_type": "code",
   "execution_count": 37,
   "id": "31eeb4ff-2286-4e29-847e-593a3519d649",
   "metadata": {},
   "outputs": [],
   "source": [
    "wf1 = Workflow(\"flat_wf\")\n",
    "\n",
    "wf1.FLATVacancyStructure = FLATCreateStructure(\"test\", \"Fe\")\n",
    "wf1.FLATCheck = FLATCheckRestriction(wf1.FLATVacancyStructure)"
   ]
  },
  {
   "cell_type": "code",
   "execution_count": 38,
   "id": "1d940e7e-9433-4678-a17a-4c3f89863a7c",
   "metadata": {},
   "outputs": [
    {
     "name": "stdout",
     "output_type": "stream",
     "text": [
      "restriction_class: FLATCrystalDefect\n",
      "restriction_type: Class Of or Subclass Of\n",
      "incoming_class: FLATAtomicScaleSampleVacancy\n",
      "\n",
      "result: True\n"
     ]
    }
   ],
   "source": [
    "restriction_class = parse_input_args(wf1.FLATCheck.node_function)[\"inp\"][\"restrictions\"][2]\n",
    "path_suffix = parse_input_args(wf1.FLATCheck.node_function)[\"inp\"][\"restrictions\"][0]\n",
    "incoming_class = parse_metadata(eval(wf1.FLATVacancyStructure.outputs.vacancy_structure.type_hint.__name__ + \".\" + path_suffix))[\"uri\"]\n",
    "incoming_obj = incoming_class()\n",
    "restriction_type = parse_input_args(wf1.FLATCheck.node_function)[\"inp\"][\"restrictions\"][1]\n",
    "if restriction_type == \"Class Of or Subclass Of\":\n",
    "    check = str(isinstance(incoming_obj, restriction_class))\n",
    "else:\n",
    "    check = str(False)\n",
    "print(\"restriction_class: \" + restriction_class.__name__)\n",
    "print(\"restriction_type: \" + restriction_type)\n",
    "print(\"incoming_class: \" + incoming_class.__name__)\n",
    "print(\"\")\n",
    "print(\"result: \" + check)"
   ]
  },
  {
   "cell_type": "code",
   "execution_count": null,
   "id": "7d9dd6ae-6d98-4c6a-9d4a-16caabb25e02",
   "metadata": {},
   "outputs": [],
   "source": []
  }
 ],
 "metadata": {
  "kernelspec": {
   "display_name": "Python 3 (ipykernel)",
   "language": "python",
   "name": "python3"
  },
  "language_info": {
   "codemirror_mode": {
    "name": "ipython",
    "version": 3
   },
   "file_extension": ".py",
   "mimetype": "text/x-python",
   "name": "python",
   "nbconvert_exporter": "python",
   "pygments_lexer": "ipython3",
   "version": "3.12.2"
  }
 },
 "nbformat": 4,
 "nbformat_minor": 5
}
